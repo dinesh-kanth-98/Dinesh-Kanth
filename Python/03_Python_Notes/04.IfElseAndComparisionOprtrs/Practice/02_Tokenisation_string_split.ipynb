{
 "cells": [
  {
   "cell_type": "markdown",
   "id": "ae5ea47d",
   "metadata": {},
   "source": [
    "Tokenization is the process of breaking down a text or a sequence of characters into smaller units called tokens. In the context of natural language processing (NLP), tokens are usually words or subwords, and this process is a fundamental step in various NLP tasks like text analysis, text classification, and machine learning.\n",
    "\n",
    "Here are some key points about tokenization:\n",
    "\n",
    "1. **Word Tokenization:** This is the most common form of tokenization, where a text is split into individual words. For example, the sentence \"Tokenization is important\" would be tokenized into three tokens: \"Tokenization,\" \"is,\" and \"important.\"\n",
    "\n",
    "2. **Sentence Tokenization:** In some cases, you may want to tokenize text into sentences. This process involves splitting a text into its constituent sentences. For example, the paragraph \"This is sentence one. This is sentence two.\" would be tokenized into two tokens: \"This is sentence one.\" and \"This is sentence two.\"\n",
    "\n",
    "3. **Subword Tokenization:** Subword tokenization is used when you want to break text down into smaller units, which can be especially useful for languages with complex word structures. Subword tokenization methods like Byte-Pair Encoding (BPE) or WordPiece are used in many modern NLP models."
   ]
  },
  {
   "cell_type": "markdown",
   "id": "8ef514bb",
   "metadata": {},
   "source": [
    "----\n",
    "1. *`String Tokenization`*: Write a program that tokenizes a string into words using a string method."
   ]
  },
  {
   "cell_type": "code",
   "execution_count": 1,
   "id": "dcc45ba9",
   "metadata": {},
   "outputs": [
    {
     "name": "stdout",
     "output_type": "stream",
     "text": [
      "enter the text: indu tharun raaju manga\n",
      "['indu', 'tharun', 'raaju', 'manga']\n"
     ]
    }
   ],
   "source": [
    "text = input(\"enter the text: \")\n",
    "words = text.split()\n",
    "print(words)  # Output: ['Hello', 'World']"
   ]
  },
  {
   "cell_type": "code",
   "execution_count": 2,
   "id": "d7dbf6f0",
   "metadata": {},
   "outputs": [
    {
     "name": "stdout",
     "output_type": "stream",
     "text": [
      "enter the text: hello,hai babu,bad cow,billi kukka,pandi\n",
      "['hello', 'hai babu', 'bad cow', 'billi kukka', 'pandi']\n"
     ]
    }
   ],
   "source": [
    "text = input(\"enter the text: \")\n",
    "words = text.split(\",\")\n",
    "print(words)"
   ]
  },
  {
   "cell_type": "code",
   "execution_count": null,
   "id": "0b999148",
   "metadata": {},
   "outputs": [],
   "source": []
  }
 ],
 "metadata": {
  "kernelspec": {
   "display_name": "Python 3 (ipykernel)",
   "language": "python",
   "name": "python3"
  },
  "language_info": {
   "codemirror_mode": {
    "name": "ipython",
    "version": 3
   },
   "file_extension": ".py",
   "mimetype": "text/x-python",
   "name": "python",
   "nbconvert_exporter": "python",
   "pygments_lexer": "ipython3",
   "version": "3.11.4"
  }
 },
 "nbformat": 4,
 "nbformat_minor": 5
}
