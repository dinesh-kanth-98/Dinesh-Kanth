{
 "cells": [
  {
   "cell_type": "code",
   "execution_count": 11,
   "id": "d40b8339",
   "metadata": {
    "scrolled": true
   },
   "outputs": [
    {
     "name": "stdout",
     "output_type": "stream",
     "text": [
      "enter the Name1: sdfsf\n",
      "enter the Name2: sdfsdf\n",
      "enter the number: 34\n",
      "n1: sdfsf\n",
      "n2: sdfsdf\n",
      "no: 34\n",
      "nms: [1, 2, 3, 4, 5, 6, 7]\n",
      "val: True\n",
      "**** after = syntax ****\n",
      "name1 = 'sdfsf'\n",
      "name2='sdfsdf'\n",
      "num=34\n",
      "names=[1, 2, 3, 4, 5, 6, 7]\n",
      "isok    =    True\n",
      "names are not same\n"
     ]
    }
   ],
   "source": [
    "name1=input(\"enter the Name1: \");\n",
    "name2=input(\"enter the Name2: \");\n",
    "num=int(input(\"enter the number: \"))\n",
    "names=[1,2,3,4,5,6,7]\n",
    "isok=True\n",
    "print(f\"n1: {name1}\")\n",
    "print(f\"n2: {name2}\")\n",
    "print(f\"no: {num}\")\n",
    "print(f\"nms: {names}\")\n",
    "print(f\"val: {isok}\")\n",
    "\n",
    "print(\"**** after = syntax ****\")\n",
    "print(f\"{name1 = }\")\n",
    "print(f\"{name2=}\")\n",
    "print(f\"{num=}\")\n",
    "print(f\"{names=}\")\n",
    "print(f\"{isok    =    }\")\n",
    "\n",
    "if name1 == name2:\n",
    "    print(\"names are same \")\n",
    "else:\n",
    "    print(\"names are not same\")"
   ]
  },
  {
   "cell_type": "markdown",
   "id": "fc654f1c",
   "metadata": {},
   "source": [
    "Certainly, here's a simpler explanation:\n",
    "\n",
    "In Python, short-circuiting means that when you use the `and` or `or` operators in a logical expression, Python stops evaluating the expression as soon as it can determine the final result.\n",
    "\n",
    "- **With `and`:**\n",
    "  - If any part of an `and` expression evaluates to `False`, Python stops and returns `False`.\n",
    "  - Example: `False and anything` will always be `False`, so Python doesn't evaluate `anything`.\n",
    "\n",
    "- **With `or`:**\n",
    "  - If any part of an `or` expression evaluates to `True`, Python stops and returns `True`.\n",
    "  - Example: `True or anything` will always be `True`, so Python doesn't evaluate `anything`.\n",
    "\n",
    "This behavior is useful for optimizing code and avoiding unnecessary work."
   ]
  },
  {
   "cell_type": "markdown",
   "id": "d492062d",
   "metadata": {},
   "source": [
    "# True    and   True   -->  True"
   ]
  },
  {
   "cell_type": "code",
   "execution_count": 1,
   "id": "24d6d11d",
   "metadata": {},
   "outputs": [
    {
     "name": "stdout",
     "output_type": "stream",
     "text": [
      "function got called\n",
      "came inside if\n"
     ]
    }
   ],
   "source": [
    "def function_call():\n",
    "    print(\"function got called\")\n",
    "    return True\n",
    "\n",
    "# True    and   True   -->  True\n",
    "# True    and   False  -->  False\n",
    "# False   and   False  -->  False\n",
    "# False   and   True   -->  False\n",
    "\n",
    "# Short-circuiting with 'and' operator\n",
    "if True and function_call():\n",
    "    print(f\"came inside if\")\n",
    "else:\n",
    "    print(f\"came inside else.\")"
   ]
  },
  {
   "cell_type": "markdown",
   "id": "c6a4d2fb",
   "metadata": {},
   "source": [
    "# True and False --> False"
   ]
  },
  {
   "cell_type": "code",
   "execution_count": 2,
   "id": "04296cd6",
   "metadata": {},
   "outputs": [
    {
     "name": "stdout",
     "output_type": "stream",
     "text": [
      "function got called\n",
      "came inside else.\n"
     ]
    }
   ],
   "source": [
    "def function_call():\n",
    "    print(\"function got called\")\n",
    "    return False\n",
    "\n",
    "# True    and   True   -->  True\n",
    "# True    and   False  -->  False\n",
    "# False   and   False  -->  False\n",
    "# False   and   True   -->  False\n",
    "\n",
    "# Short-circuiting with 'and' operator\n",
    "if True and function_call():\n",
    "    print(f\"came inside if\")\n",
    "else:\n",
    "    print(f\"came inside else.\")"
   ]
  },
  {
   "cell_type": "markdown",
   "id": "04030c14",
   "metadata": {},
   "source": [
    "# False and True --> False"
   ]
  },
  {
   "cell_type": "code",
   "execution_count": 3,
   "id": "04e0216f",
   "metadata": {},
   "outputs": [
    {
     "name": "stdout",
     "output_type": "stream",
     "text": [
      "came inside else.\n"
     ]
    }
   ],
   "source": [
    "def function_call():\n",
    "    print(\"function got called\")\n",
    "    return True\n",
    "\n",
    "# True    and   True   -->  True\n",
    "# True    and   False  -->  False\n",
    "# False   and   False  -->  False\n",
    "# False   and   True   -->  False\n",
    "\n",
    "# Short-circuiting with 'and' operator\n",
    "if False and function_call():\n",
    "    print(f\"came inside if\")\n",
    "else:\n",
    "    print(f\"came inside else.\")"
   ]
  },
  {
   "cell_type": "markdown",
   "id": "8678f0ef",
   "metadata": {},
   "source": [
    "# False and False --> False"
   ]
  },
  {
   "cell_type": "code",
   "execution_count": 4,
   "id": "47c3a10a",
   "metadata": {},
   "outputs": [
    {
     "name": "stdout",
     "output_type": "stream",
     "text": [
      "came inside else.\n"
     ]
    }
   ],
   "source": [
    "def function_call():\n",
    "    print(\"function got called\")\n",
    "    return False\n",
    "\n",
    "# True    and   True   -->  True\n",
    "# True    and   False  -->  False\n",
    "# False   and   False  -->  False\n",
    "# False   and   True   -->  False\n",
    "\n",
    "# Short-circuiting with 'and' operator\n",
    "if False and function_call():\n",
    "    print(f\"came inside if\")\n",
    "else:\n",
    "    print(f\"came inside else.\")"
   ]
  },
  {
   "cell_type": "markdown",
   "id": "42b4f16f",
   "metadata": {},
   "source": [
    "Certainly, here's a simpler explanation:\n",
    "\n",
    "In Python, short-circuiting means that when you use the `and` or `or` operators in a logical expression, Python stops evaluating the expression as soon as it can determine the final result.\n",
    "\n",
    "- **With `and`:**\n",
    "  - If any part of an `and` expression evaluates to `False`, Python stops and returns `False`.\n",
    "  - Example: `False and anything` will always be `False`, so Python doesn't evaluate `anything`.\n",
    "\n",
    "- **With `or`:**\n",
    "  - If any part of an `or` expression evaluates to `True`, Python stops and returns `True`.\n",
    "  - Example: `True or anything` will always be `True`, so Python doesn't evaluate `anything`.\n",
    "\n",
    "This behavior is useful for optimizing code and avoiding unnecessary work."
   ]
  },
  {
   "cell_type": "markdown",
   "id": "a5fe4965",
   "metadata": {},
   "source": [
    "# True    or   True   -->  True"
   ]
  },
  {
   "cell_type": "code",
   "execution_count": 5,
   "id": "4b98b635",
   "metadata": {},
   "outputs": [
    {
     "name": "stdout",
     "output_type": "stream",
     "text": [
      "came inside if\n"
     ]
    }
   ],
   "source": [
    "def function_call():\n",
    "    print(\"function got called\")\n",
    "    return True\n",
    "\n",
    "# True    or   True   -->  True\n",
    "# True    or   False  -->  True\n",
    "# False   or   False  -->  False\n",
    "# False   or   True   -->  True\n",
    "\n",
    "# Short-circuiting with 'or' operator\n",
    "if True or function_call():\n",
    "    print(f\"came inside if\")\n",
    "else:\n",
    "    print(f\"came inside else.\")"
   ]
  },
  {
   "cell_type": "markdown",
   "id": "44d13fb1",
   "metadata": {},
   "source": [
    "# True    or   False   -->  True"
   ]
  },
  {
   "cell_type": "code",
   "execution_count": 6,
   "id": "0d00c621",
   "metadata": {},
   "outputs": [
    {
     "name": "stdout",
     "output_type": "stream",
     "text": [
      "came inside if\n"
     ]
    }
   ],
   "source": [
    "def function_call():\n",
    "    print(\"function got called\")\n",
    "    return False\n",
    "\n",
    "# True    or   True   -->  True\n",
    "# True    or   False  -->  True\n",
    "# False   or   False  -->  False\n",
    "# False   or   True   -->  True\n",
    "\n",
    "# Short-circuiting with 'or' operator\n",
    "if True or function_call():\n",
    "    print(f\"came inside if\")\n",
    "else:\n",
    "    print(f\"came inside else.\")"
   ]
  },
  {
   "cell_type": "markdown",
   "id": "9eecc84a",
   "metadata": {},
   "source": [
    "# False    or   False   -->  False"
   ]
  },
  {
   "cell_type": "code",
   "execution_count": 7,
   "id": "e7971093",
   "metadata": {},
   "outputs": [
    {
     "name": "stdout",
     "output_type": "stream",
     "text": [
      "function got called\n",
      "came inside else.\n"
     ]
    }
   ],
   "source": [
    "def function_call():\n",
    "    print(\"function got called\")\n",
    "    return False\n",
    "\n",
    "# True    or   True   -->  True\n",
    "# True    or   False  -->  True\n",
    "# False   or   False  -->  False\n",
    "# False   or   True   -->  True\n",
    "\n",
    "# Short-circuiting with 'or' operator\n",
    "if False or function_call():\n",
    "    print(f\"came inside if\")\n",
    "else:\n",
    "    print(f\"came inside else.\")"
   ]
  },
  {
   "cell_type": "markdown",
   "id": "adbbee09",
   "metadata": {},
   "source": [
    "# False    or   True   -->  True"
   ]
  },
  {
   "cell_type": "code",
   "execution_count": 8,
   "id": "01250a64",
   "metadata": {
    "scrolled": true
   },
   "outputs": [
    {
     "name": "stdout",
     "output_type": "stream",
     "text": [
      "function got called\n",
      "came inside if\n"
     ]
    }
   ],
   "source": [
    "def function_call():\n",
    "    print(\"function got called\")\n",
    "    return True\n",
    "\n",
    "# True    or   True   -->  True\n",
    "# True    or   False  -->  True\n",
    "# False   or   False  -->  False\n",
    "# False   or   True   -->  True\n",
    "\n",
    "# Short-circuiting with 'or' operator\n",
    "if False or function_call():\n",
    "    print(f\"came inside if\")\n",
    "else:\n",
    "    print(f\"came inside else.\")"
   ]
  },
  {
   "cell_type": "code",
   "execution_count": 32,
   "id": "6da2ced8",
   "metadata": {},
   "outputs": [
    {
     "data": {
      "text/plain": [
       "True"
      ]
     },
     "execution_count": 32,
     "metadata": {},
     "output_type": "execute_result"
    }
   ],
   "source": [
    "True and True"
   ]
  },
  {
   "cell_type": "code",
   "execution_count": 33,
   "id": "b92e3369",
   "metadata": {},
   "outputs": [
    {
     "data": {
      "text/plain": [
       "False"
      ]
     },
     "execution_count": 33,
     "metadata": {},
     "output_type": "execute_result"
    }
   ],
   "source": [
    "not True"
   ]
  },
  {
   "cell_type": "code",
   "execution_count": 12,
   "id": "6a080d97",
   "metadata": {},
   "outputs": [
    {
     "name": "stdout",
     "output_type": "stream",
     "text": [
      "enter a Word: 23\n",
      "<class 'int'>\n",
      "the word is not hello\n"
     ]
    }
   ],
   "source": [
    "word = input(\"enter a Word: \")\n",
    "print(type(word))\n",
    "\n",
    "if word == \"hello\":\n",
    "    print(\"the word is hello\")\n",
    "else:\n",
    "    print(\"the word is not hello\")"
   ]
  },
  {
   "cell_type": "markdown",
   "id": "145f5f84",
   "metadata": {},
   "source": [
    "-----\n",
    "# isinstance()\n",
    "\n",
    "In Python, the `isinstance()` function is used to check if an object is an instance of a particular class or a tuple of classes. It is commonly used to perform type checking to ensure that an object is of the expected type before performing certain operations on it. The `isinstance()` function returns `True` if the object is an instance of the specified class or classes and `False` otherwise.\n",
    "\n",
    "Here's the basic syntax of the `isinstance()` function:\n",
    "\n",
    "```python\n",
    "isinstance(object, classinfo)\n",
    "```\n",
    "\n",
    "- `object`: The object you want to check.\n",
    "- `classinfo`: A class or a tuple of classes to check against. If `object` is an instance of any of the classes in `classinfo`, the function returns `True`.\n",
    "\n",
    "Here are some examples of how to use `isinstance()`:\n",
    "\n",
    "```python\n",
    "# Check if an integer is an instance of the int class\n",
    "result = isinstance(5, int)\n",
    "print(result)  # Output: True\n",
    "\n",
    "# Check if a string is an instance of the str class\n",
    "result = isinstance(\"Hello\", str)\n",
    "print(result)  # Output: True\n",
    "\n",
    "# Check if a list is an instance of either list or tuple\n",
    "result = isinstance([], (list, tuple))\n",
    "print(result)  # Output: True\n",
    "\n",
    "# Check if an object is an instance of multiple classes\n",
    "result = isinstance(3.14, (int, float, str))\n",
    "print(result)  # Output: True\n",
    "\n",
    "```"
   ]
  },
  {
   "cell_type": "code",
   "execution_count": 39,
   "id": "88868d37",
   "metadata": {},
   "outputs": [
    {
     "data": {
      "text/plain": [
       "True"
      ]
     },
     "execution_count": 39,
     "metadata": {},
     "output_type": "execute_result"
    }
   ],
   "source": [
    "isinstance(5, int)\n"
   ]
  },
  {
   "cell_type": "code",
   "execution_count": 14,
   "id": "ed288338",
   "metadata": {},
   "outputs": [
    {
     "name": "stdout",
     "output_type": "stream",
     "text": [
      "Enter The string: 656\n",
      "the variavle is not string\n"
     ]
    }
   ],
   "source": [
    "word = input(\"Enter The string: \")\n",
    "\n",
    "if isinstance(word, str) == True:\n",
    "    print(\"the variable is string\")\n",
    "else:\n",
    "    print(\"the variavle is not string\")"
   ]
  },
  {
   "cell_type": "code",
   "execution_count": 56,
   "id": "5cb0cfe9",
   "metadata": {},
   "outputs": [
    {
     "name": "stdout",
     "output_type": "stream",
     "text": [
      "Enter The Number: \n",
      "<class 'bool'>\n",
      "the variavle is not boolian word = False\n"
     ]
    }
   ],
   "source": [
    "word = bool(input(\"Enter The Number: \"))\n",
    "\n",
    "print(type(word))\n",
    "if isinstance(word, bool)  and word == True:\n",
    "    print(\"the variable is boolian and true\")\n",
    "else:\n",
    "    print(f\"the variavle is not boolian {word = }\")"
   ]
  },
  {
   "cell_type": "code",
   "execution_count": 59,
   "id": "65d8b2e4",
   "metadata": {},
   "outputs": [
    {
     "name": "stdout",
     "output_type": "stream",
     "text": [
      "Enter The Number: jhjhgjGFGFGFGF\n",
      "<class 'str'>\n",
      "string contains caps ans small lettters\n"
     ]
    }
   ],
   "source": [
    "word = input(\"Enter The Number: \")\n",
    "print(type(word))\n",
    "if word.isalpha() == True:\n",
    "    print(\"string contains caps ans small lettters\")\n",
    "else:\n",
    "    print(f\"invalid string {word = }\")"
   ]
  },
  {
   "cell_type": "code",
   "execution_count": 60,
   "id": "221a0f8c",
   "metadata": {},
   "outputs": [
    {
     "name": "stdout",
     "output_type": "stream",
     "text": [
      "Enter The Number: sdlkjfllskdjf\n",
      "<class 'str'>\n",
      "invalid string word.upper() = 'SDLKJFLLSKDJF'\n"
     ]
    }
   ],
   "source": [
    "word = input(\"Enter The Number: \")\n",
    "print(type(word))\n",
    "print(f\"invalid string {word.upper() = }\")"
   ]
  },
  {
   "cell_type": "code",
   "execution_count": null,
   "id": "982b750f",
   "metadata": {},
   "outputs": [],
   "source": []
  }
 ],
 "metadata": {
  "kernelspec": {
   "display_name": "Python 3 (ipykernel)",
   "language": "python",
   "name": "python3"
  },
  "language_info": {
   "codemirror_mode": {
    "name": "ipython",
    "version": 3
   },
   "file_extension": ".py",
   "mimetype": "text/x-python",
   "name": "python",
   "nbconvert_exporter": "python",
   "pygments_lexer": "ipython3",
   "version": "3.11.4"
  }
 },
 "nbformat": 4,
 "nbformat_minor": 5
}
